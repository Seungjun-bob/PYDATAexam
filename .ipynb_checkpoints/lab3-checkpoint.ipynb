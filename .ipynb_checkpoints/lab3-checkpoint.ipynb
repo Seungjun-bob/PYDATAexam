{
 "cells": [
  {
   "cell_type": "code",
   "execution_count": 18,
   "id": "3349bf65-fbf7-43f7-8577-4fd0e1ea6f51",
   "metadata": {},
   "outputs": [
    {
     "name": "stdout",
     "output_type": "stream",
     "text": [
      "['정치', '국제', '정치', '정치', '문화', '정치', '정치', '정치', '정치', '국제', '국제', '사회', '경제', '정치', '문화', '정치', '정치', 'IT', '경제', '정치'] ['尹당선인, 4·19 기념식 참석..점심은 안전사고 피해자들과 함께', \"'포스트 팬데믹' 美최대공항 무인전철 연중무휴 달린다\", '문 대통령, 임기 마지막 4·19 민주묘지 참배', '대한적십자사, 국내 입국 우크라 피란민에 10억원 지원', '제주올레·해파랑길·갈맷길..걷기여행에 빠지다', '관사 테크에 기무 부활 조짐까지..군심 때리는 국방장관 후보[취재파일]', \"文대통령 '검수완박' 김오수 총장에 모호한 말만..진짜 속뜻 뭘까\", '尹당선인, 오늘 4·19혁명 기념식 참석..재난 피해자들과 오찬도', '윤호중, \"(되더라도) 한덕수는 허수아비 대독 총리, 한동훈은 검찰 공화국 완성하는 키맨 될 것\"[최강시사]', \"대만도 코로나19 확진자 급증..통제냐 완화냐 '고심'\", '\"우크라군도 국제법상 금지된 집속탄 전투에 사용\" NYT', '김오수 \"검수완박보단 檢수사공정성 위한 특별법 제정하는 방법도\"', \"질병청, '국립노화연구원' 설립 재검토..새 정부에서 재추진\", \"6.1지방선거 '음주운전' 예비후보들 천태만상\", \"활동하기 좋은 봄 날씨..다만 '건조특보' 이어져\", '권익위 \"마약·약물 운전 사고 발생 시 보험금 지급 제한해야\"', \"진주 남강변에 전통·현대 공존한 '전통문화체험관' 들어선다\", '우리 몸은 왜 향기 분자를 만들까[강석기의 과학카페]', '권익위 \"마약·약물 운전사고에 보험금 지급 제한 추진\"', '北 \"이제 경제만 풀면 세계 앞선다\"..내부 통제 강화']\n"
     ]
    }
   ],
   "source": [
    "import requests\n",
    "from bs4 import BeautifulSoup\n",
    "import re\n",
    "req = requests.get(\"https://news.daum.net/\")\n",
    "html = req.text\n",
    "soup = BeautifulSoup(html, 'html.parser')\n",
    "\n",
    "titles = soup.select('body > div.container-doc > main > section > div > div.content-article > div.box_g.box_news_issue > ul > li > div > div > strong > a')\n",
    "category = soup.select('body > div.container-doc > main > section > div > div.content-article > div.box_g.box_news_issue > ul > li > div > div > span > span.txt_category')\n",
    "\n",
    "newstitle = []\n",
    "newscategory = []\n",
    "\n",
    "for dom in titles:\n",
    "    newstitle.append(dom.get_text(strip=True))\n",
    "for dom in category:\n",
    "    newscategory.append(dom.get_text(strip=True))\n",
    "\n",
    "with open('output/news.csv', \"wt\", encoding=\"utf-8\") as f:\n",
    "    f.write('newscategory,newstitle\\n')  \n",
    "    for i in range(len(newstitle)):\n",
    "        f.write(newscategory[i]+\",\"+newstitle[i]+'\\n')  "
   ]
  }
 ],
 "metadata": {
  "kernelspec": {
   "display_name": "pydatavenv",
   "language": "python",
   "name": "pydatavenv"
  },
  "language_info": {
   "codemirror_mode": {
    "name": "ipython",
    "version": 3
   },
   "file_extension": ".py",
   "mimetype": "text/x-python",
   "name": "python",
   "nbconvert_exporter": "python",
   "pygments_lexer": "ipython3",
   "version": "3.9.12"
  }
 },
 "nbformat": 4,
 "nbformat_minor": 5
}
