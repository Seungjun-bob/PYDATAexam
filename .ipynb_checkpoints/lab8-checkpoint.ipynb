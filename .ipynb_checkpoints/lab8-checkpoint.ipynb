{
 "cells": [
  {
   "cell_type": "code",
   "execution_count": 56,
   "id": "04c6c11a-500a-45df-bf92-7f0d8c1246f3",
   "metadata": {},
   "outputs": [
    {
     "name": "stdout",
     "output_type": "stream",
     "text": [
      "[짜장면집에 대한 네이버 지역 정보(XML) ]\n",
      "지린성 , 전라북도 군산시 미원로 87\n",
      "신승반점 , 인천광역시 중구 차이나타운로44번길 31-3\n",
      "목란 , 서울특별시 서대문구 연희로15길 21\n",
      "연경 , 인천광역시 중구 차이나타운로 41\n",
      "송죽장 , 서울특별시 영등포구 문래로 203\n",
      "[쌀국수에 대한 네이버 지역 정보(JSON) ]\n",
      "5 레호이 소월길 본점 서울특별시 용산구 소월로38가길 5\n",
      "5 에머이 종로1호점(본점) 서울특별시 종로구 종로12길 6-20\n",
      "5 에머이 가로수길 서울특별시 강남구 도산대로15길 8\n",
      "5 72420 사당본점 서울특별시 동작구 동작대로1길 50 1층\n",
      "5 더포 본점 대구광역시 달서구 와룡로 169 월드마크 웨스트엔드 상가 107동 110호~111호\n"
     ]
    }
   ],
   "source": [
    "import urllib.request\n",
    "import json\n",
    "from bs4 import BeautifulSoup\n",
    "import urllib.request as req\n",
    "\n",
    "def naver_search (keyword, callType='JSON'):\n",
    "    \n",
    "    if callType == 'xml':\n",
    "    \n",
    "        client_key = 'izGsqP2exeThwwEUVU3x'\n",
    "        client_secret = 'WrwbQ1l6ZI'\n",
    "        query = keyword\n",
    "        encText = urllib.parse.quote_plus(query)\n",
    "\n",
    "        num = 5\n",
    "        naver_url = 'https://openapi.naver.com/v1/search/local.xml?query=' + encText + '&display=' + str(num)\n",
    "\n",
    "        request = urllib.request.Request(naver_url)\n",
    "        request.add_header(\"X-Naver-Client-Id\",client_key)\n",
    "        request.add_header(\"X-Naver-Client-Secret\",client_secret)\n",
    "        response = urllib.request.urlopen(request)\n",
    "\n",
    "        soup = BeautifulSoup(response.read().decode('utf-8'), \"xml\")\n",
    "        print('[' + keyword + '집에 대한 네이버 지역 정보(XML) ]')\n",
    "        for itemList in soup.find_all('item') :\n",
    "            print(itemList.title.string,',',itemList.roadAddress.string)\n",
    "    \n",
    "    else:\n",
    "        client_key = 'izGsqP2exeThwwEUVU3x'\n",
    "        client_secret = 'WrwbQ1l6ZI'\n",
    "        query = keyword\n",
    "        encText = urllib.parse.quote_plus(query)\n",
    "        num = 5\n",
    "        naver_url = 'https://openapi.naver.com/v1/search/local.json?query=' + encText + '&display=' + str(num)\n",
    "\n",
    "        request = urllib.request.Request(naver_url)\n",
    "        request.add_header(\"X-Naver-Client-Id\",client_key)\n",
    "        request.add_header(\"X-Naver-Client-Secret\",client_secret)\n",
    "        response = urllib.request.urlopen(request)\n",
    "        rescode = response.getcode()\n",
    "        if(rescode == 200):\n",
    "            response_body = response.read()\n",
    "            dataList = json.loads(response_body)           \n",
    "\n",
    "            print('[' + query + '에 대한 네이버 지역 정보(JSON) ]')\n",
    "            for itemList in dataList['items'] :\n",
    "                print(itemList['title'], itemList['roadAddress'])\n",
    "\n",
    "naver_search('짜장면', callType='xml')\n",
    "naver_search('쌀국수')"
   ]
  },
  {
   "cell_type": "code",
   "execution_count": null,
   "id": "254b64f3-d0f1-429a-ab9b-9f161e20052e",
   "metadata": {},
   "outputs": [],
   "source": []
  }
 ],
 "metadata": {
  "kernelspec": {
   "display_name": "pydatavenv",
   "language": "python",
   "name": "pydatavenv"
  },
  "language_info": {
   "codemirror_mode": {
    "name": "ipython",
    "version": 3
   },
   "file_extension": ".py",
   "mimetype": "text/x-python",
   "name": "python",
   "nbconvert_exporter": "python",
   "pygments_lexer": "ipython3",
   "version": "3.9.12"
  }
 },
 "nbformat": 4,
 "nbformat_minor": 5
}
