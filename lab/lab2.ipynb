{
 "cells": [
  {
   "cell_type": "code",
   "execution_count": 99,
   "id": "3ea57091-4b16-4285-8ed6-fae3f2252f4d",
   "metadata": {},
   "outputs": [
    {
     "name": "stdout",
     "output_type": "stream",
     "text": [
      "[<h1> 태그의 컨텐츠] HTML의 링크 태그\n",
      "[텍스트 형식으로 내용을 가지고 있는 <a>태그의 컨텐트와 href 속성값]\n",
      "World Wide Consortium : http://www.w3.org/\n",
      "Java Page : http://java.sun.com/\n",
      "Python Page : http://www.python.org/\n",
      "Web Client 기술 학습 : http://www.w3schools.com/\n",
      "[<img>태그의 src 속성값] http://unico2013.dothome.co.kr/image/duke.jpg\n",
      "[첫 번째 <h2>태그의 컨텐츠] 좋아하는 색\n",
      "[<ul>태그의 자식 태그들중 style 속성의 값이 green으로 끝나는 태그의 컨텐츠] 녹색\n",
      "[두 번째 <h2>태그의 컨텐츠] 먹고싶은 음식\n",
      "[<ol>태그의 모든 자식 태그들의 컨텐츠] \n",
      "짜장면\n",
      "냉면\n",
      "돈까스\n",
      "갈비\n",
      "\n",
      "[<table> 태그의 모든 자손 태그들의 컨텐츠] \n",
      "둘리또치도우너\n",
      "케라토사우루스타조외계인\n",
      "도봉구 쌍문동아프리카깐따삐아 별\n",
      "\n",
      "[name이라는 클래스 속성을 갖는 <tr> 태그의 컨텐츠] 둘리또치도우너\n",
      "[target이라는 아이디 속성을 갖는 <td> 태그의 컨텐츠] 아프리카\n"
     ]
    }
   ],
   "source": [
    "import requests\n",
    "from bs4 import BeautifulSoup\n",
    "\n",
    "req = requests.get('http://unico2013.dothome.co.kr/crawling/exercise_bs.html')\n",
    "html = req.content\n",
    "html = html.decode('utf-8')\n",
    "\n",
    "bs = BeautifulSoup(html, 'html.parser')\n",
    "\n",
    "print(\"[<h1> 태그의 컨텐츠]\", bs.h1.text)\n",
    "print(\"[텍스트 형식으로 내용을 가지고 있는 <a>태그의 컨텐트와 href 속성값]\")\n",
    "atags = bs.find_all('a', text=True)\n",
    "for i in atags:\n",
    "    print(i.text,\":\",i[\"href\"])\n",
    "print(\"[<img>태그의 src 속성값]\", bs.img[\"src\"])\n",
    "print(\"[첫 번째 <h2>태그의 컨텐츠]\", bs.h2.contents[0])\n",
    "print(\"[<ul>태그의 자식 태그들중 style 속성의 값이 green으로 끝나는 태그의 컨텐츠]\", bs.ul.contents[5].text)\n",
    "print(\"[두 번째 <h2>태그의 컨텐츠]\", bs.find_all('h2')[1].text) \n",
    "print(\"[<ol>태그의 모든 자식 태그들의 컨텐츠]\", bs.find('ol').text)\n",
    "print(\"[<table> 태그의 모든 자손 태그들의 컨텐츠]\", bs.find('table').text)\n",
    "print(\"[name이라는 클래스 속성을 갖는 <tr> 태그의 컨텐츠]\", bs.find('tr', class_='name').text)\n",
    "print(\"[target이라는 아이디 속성을 갖는 <td> 태그의 컨텐츠]\", bs.find('td', id='target').text)"
   ]
  },
  {
   "cell_type": "code",
   "execution_count": null,
   "id": "b8538211-b0d7-4005-8996-06adfacc2776",
   "metadata": {},
   "outputs": [],
   "source": []
  }
 ],
 "metadata": {
  "kernelspec": {
   "display_name": "pydatavenv",
   "language": "python",
   "name": "pydatavenv"
  },
  "language_info": {
   "codemirror_mode": {
    "name": "ipython",
    "version": 3
   },
   "file_extension": ".py",
   "mimetype": "text/x-python",
   "name": "python",
   "nbconvert_exporter": "python",
   "pygments_lexer": "ipython3",
   "version": "3.9.12"
  }
 },
 "nbformat": 4,
 "nbformat_minor": 5
}
