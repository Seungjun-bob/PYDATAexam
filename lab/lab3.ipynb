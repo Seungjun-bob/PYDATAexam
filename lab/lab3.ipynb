{
 "cells": [
  {
   "cell_type": "code",
   "execution_count": 19,
   "id": "3349bf65-fbf7-43f7-8577-4fd0e1ea6f51",
   "metadata": {},
   "outputs": [],
   "source": [
    "import requests\n",
    "from bs4 import BeautifulSoup\n",
    "\n",
    "req = requests.get(\"https://news.daum.net/\")\n",
    "html = req.text\n",
    "soup = BeautifulSoup(html, 'html.parser')\n",
    "\n",
    "titles = soup.select('body > div.container-doc > main > section > div > div.content-article > div.box_g.box_news_issue > ul > li > div > div > strong > a')\n",
    "category = soup.select('body > div.container-doc > main > section > div > div.content-article > div.box_g.box_news_issue > ul > li > div > div > span > span.txt_category')\n",
    "\n",
    "newstitle = []\n",
    "newscategory = []\n",
    "\n",
    "for dom in titles:\n",
    "    newstitle.append(dom.get_text(strip=True))\n",
    "for dom in category:\n",
    "    newscategory.append(dom.get_text(strip=True))\n",
    "\n",
    "with open('output/news.csv', \"wt\", encoding=\"utf-8\") as f:\n",
    "    f.write('newscategory,newstitle\\n')  \n",
    "    for i in range(len(newstitle)):\n",
    "        f.write(newscategory[i]+\",\"+newstitle[i]+'\\n')  "
   ]
  }
 ],
 "metadata": {
  "kernelspec": {
   "display_name": "pydatavenv",
   "language": "python",
   "name": "pydatavenv"
  },
  "language_info": {
   "codemirror_mode": {
    "name": "ipython",
    "version": 3
   },
   "file_extension": ".py",
   "mimetype": "text/x-python",
   "name": "python",
   "nbconvert_exporter": "python",
   "pygments_lexer": "ipython3",
   "version": "3.9.12"
  }
 },
 "nbformat": 4,
 "nbformat_minor": 5
}
