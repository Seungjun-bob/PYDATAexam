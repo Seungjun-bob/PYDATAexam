{
 "cells": [
  {
   "cell_type": "code",
   "execution_count": 2,
   "id": "42368074-10e5-491d-ae7f-024575e74c12",
   "metadata": {},
   "outputs": [],
   "source": [
    "from selenium import webdriver\n",
    "from selenium.webdriver.common.keys import Keys \n",
    "\n",
    "driver = webdriver.Chrome('C:/Temp/chromedriver')"
   ]
  },
  {
   "cell_type": "code",
   "execution_count": 17,
   "id": "d95dc3dd-453e-4430-b5b6-e11818357e83",
   "metadata": {},
   "outputs": [],
   "source": [
    "driver.get('http://www.naver.com/') \n",
    "\n",
    "target=driver.find_element_by_css_selector(\"[name = 'query']\")\n",
    "target.send_keys('파이썬')\n",
    "target.send_keys(Keys.ENTER)"
   ]
  },
  {
   "cell_type": "code",
   "execution_count": 20,
   "id": "98ee506b-630e-4d1b-a898-51970fdcc475",
   "metadata": {},
   "outputs": [],
   "source": [
    "driver.get('http://www.naver.com/') \n",
    "\n",
    "byId = driver.find_element_by_id('query')\n",
    "byId.send_keys('파이썬')\n",
    "byId.send_keys(Keys.ENTER)"
   ]
  },
  {
   "cell_type": "code",
   "execution_count": 21,
   "id": "9ba206cb-8425-48eb-ab4f-330353361f9e",
   "metadata": {},
   "outputs": [],
   "source": [
    "driver.get('http://www.naver.com/') \n",
    "\n",
    "byClassName = driver.find_element_by_class_name('input_text')\n",
    "byClassName.send_keys('파이썬')\n",
    "byClassName.send_keys(Keys.ENTER)"
   ]
  }
 ],
 "metadata": {
  "kernelspec": {
   "display_name": "pydatavenv",
   "language": "python",
   "name": "pydatavenv"
  },
  "language_info": {
   "codemirror_mode": {
    "name": "ipython",
    "version": 3
   },
   "file_extension": ".py",
   "mimetype": "text/x-python",
   "name": "python",
   "nbconvert_exporter": "python",
   "pygments_lexer": "ipython3",
   "version": "3.9.12"
  }
 },
 "nbformat": 4,
 "nbformat_minor": 5
}
